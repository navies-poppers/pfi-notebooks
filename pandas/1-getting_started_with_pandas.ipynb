{
 "cells": [
  {
   "cell_type": "markdown",
   "id": "2c0397e0-4592-48dd-90d9-6a6dc95be2f9",
   "metadata": {},
   "source": [
    "# 1: Basic Pandas \n",
    "\n",
    "<div style=\"text-align: center;\">\n",
    "    <img width=\"40%\" src=\"https://hips.hearstapps.com/elleuk.cdnds.net/16/36/3200x1599/gallery-1473083573-pandas.jpg\" alt=\"Waving panda\" style=\"min-width: 400px\">\n",
    "    <div><small><em><a href=\"https://www.elle.com/uk/life-and-culture/culture/news/a31745/10-ways-to-celebrate-pandas-no-longer-being-endangered/\">Source</a></em></small></div>\n",
    "</div>"
   ]
  },
  {
   "cell_type": "markdown",
   "id": "c2157875-85e2-4cac-aa9e-7d04e47015a4",
   "metadata": {},
   "source": [
    "## Anatomie eines DataFrames\n",
    "\n",
    "- zweidimensionale Datenstruktur\n",
    "- aufgebaut auf NumPy Array oder PyArrow\n",
    "\n",
    "Ein **DataFrame** besteht aus einer oder mehreren **Series**. Die Namen der **Series** sind die Spaltenlabel, und die Zeilenlabel formen den **Index**."
   ]
  },
  {
   "cell_type": "code",
   "execution_count": 1,
   "id": "071b9893-98aa-4f8e-9dff-b34cf7e56a01",
   "metadata": {},
   "outputs": [
    {
     "data": {
      "text/html": [
       "<div>\n",
       "<style scoped>\n",
       "    .dataframe tbody tr th:only-of-type {\n",
       "        vertical-align: middle;\n",
       "    }\n",
       "\n",
       "    .dataframe tbody tr th {\n",
       "        vertical-align: top;\n",
       "    }\n",
       "\n",
       "    .dataframe thead th {\n",
       "        text-align: right;\n",
       "    }\n",
       "</style>\n",
       "<table border=\"1\" class=\"dataframe\">\n",
       "  <thead>\n",
       "    <tr style=\"text-align: right;\">\n",
       "      <th></th>\n",
       "      <th>name</th>\n",
       "      <th>id</th>\n",
       "      <th>nametype</th>\n",
       "      <th>recclass</th>\n",
       "      <th>mass (g)</th>\n",
       "      <th>fall</th>\n",
       "      <th>year</th>\n",
       "      <th>reclat</th>\n",
       "      <th>reclong</th>\n",
       "      <th>GeoLocation</th>\n",
       "    </tr>\n",
       "  </thead>\n",
       "  <tbody>\n",
       "    <tr>\n",
       "      <th>0</th>\n",
       "      <td>Aachen</td>\n",
       "      <td>1</td>\n",
       "      <td>Valid</td>\n",
       "      <td>L5</td>\n",
       "      <td>21</td>\n",
       "      <td>Fell</td>\n",
       "      <td>01/01/1880 12:00:00 AM</td>\n",
       "      <td>50.77500</td>\n",
       "      <td>6.08333</td>\n",
       "      <td>(50.775, 6.08333)</td>\n",
       "    </tr>\n",
       "    <tr>\n",
       "      <th>1</th>\n",
       "      <td>Aarhus</td>\n",
       "      <td>2</td>\n",
       "      <td>Valid</td>\n",
       "      <td>H6</td>\n",
       "      <td>720</td>\n",
       "      <td>Fell</td>\n",
       "      <td>01/01/1951 12:00:00 AM</td>\n",
       "      <td>56.18333</td>\n",
       "      <td>10.23333</td>\n",
       "      <td>(56.18333, 10.23333)</td>\n",
       "    </tr>\n",
       "    <tr>\n",
       "      <th>2</th>\n",
       "      <td>Abee</td>\n",
       "      <td>6</td>\n",
       "      <td>Valid</td>\n",
       "      <td>EH4</td>\n",
       "      <td>107000</td>\n",
       "      <td>Fell</td>\n",
       "      <td>01/01/1952 12:00:00 AM</td>\n",
       "      <td>54.21667</td>\n",
       "      <td>-113.00000</td>\n",
       "      <td>(54.21667, -113.0)</td>\n",
       "    </tr>\n",
       "    <tr>\n",
       "      <th>3</th>\n",
       "      <td>Acapulco</td>\n",
       "      <td>10</td>\n",
       "      <td>Valid</td>\n",
       "      <td>Acapulcoite</td>\n",
       "      <td>1914</td>\n",
       "      <td>Fell</td>\n",
       "      <td>01/01/1976 12:00:00 AM</td>\n",
       "      <td>16.88333</td>\n",
       "      <td>-99.90000</td>\n",
       "      <td>(16.88333, -99.9)</td>\n",
       "    </tr>\n",
       "    <tr>\n",
       "      <th>4</th>\n",
       "      <td>Achiras</td>\n",
       "      <td>370</td>\n",
       "      <td>Valid</td>\n",
       "      <td>L6</td>\n",
       "      <td>780</td>\n",
       "      <td>Fell</td>\n",
       "      <td>01/01/1902 12:00:00 AM</td>\n",
       "      <td>-33.16667</td>\n",
       "      <td>-64.95000</td>\n",
       "      <td>(-33.16667, -64.95)</td>\n",
       "    </tr>\n",
       "  </tbody>\n",
       "</table>\n",
       "</div>"
      ],
      "text/plain": [
       "       name   id nametype     recclass  mass (g)  fall  \\\n",
       "0    Aachen    1    Valid           L5        21  Fell   \n",
       "1    Aarhus    2    Valid           H6       720  Fell   \n",
       "2      Abee    6    Valid          EH4    107000  Fell   \n",
       "3  Acapulco   10    Valid  Acapulcoite      1914  Fell   \n",
       "4   Achiras  370    Valid           L6       780  Fell   \n",
       "\n",
       "                     year    reclat    reclong           GeoLocation  \n",
       "0  01/01/1880 12:00:00 AM  50.77500    6.08333     (50.775, 6.08333)  \n",
       "1  01/01/1951 12:00:00 AM  56.18333   10.23333  (56.18333, 10.23333)  \n",
       "2  01/01/1952 12:00:00 AM  54.21667 -113.00000    (54.21667, -113.0)  \n",
       "3  01/01/1976 12:00:00 AM  16.88333  -99.90000     (16.88333, -99.9)  \n",
       "4  01/01/1902 12:00:00 AM -33.16667  -64.95000   (-33.16667, -64.95)  "
      ]
     },
     "execution_count": 1,
     "metadata": {},
     "output_type": "execute_result"
    }
   ],
   "source": [
    "import pandas as pd\n",
    "\n",
    "meteorites = pd.read_csv('../data/Meteorite_Landings.csv', nrows=5)\n",
    "meteorites"
   ]
  },
  {
   "cell_type": "markdown",
   "id": "43123c4d-579e-4dc2-981e-ce2e2c361b7e",
   "metadata": {},
   "source": [
    "*Quelle: [NASA Open Data Portal](https://data.nasa.gov/Space-Science/Meteorite-Landings/gh4g-9sfh)*"
   ]
  },
  {
   "cell_type": "code",
   "execution_count": 2,
   "id": "0b097335",
   "metadata": {},
   "outputs": [
    {
     "data": {
      "text/plain": [
       "pandas.core.frame.DataFrame"
      ]
     },
     "execution_count": 2,
     "metadata": {},
     "output_type": "execute_result"
    }
   ],
   "source": [
    "type(meteorites)"
   ]
  },
  {
   "cell_type": "markdown",
   "id": "ead9371d",
   "metadata": {},
   "source": [
    "#### Columns:"
   ]
  },
  {
   "cell_type": "code",
   "execution_count": 3,
   "id": "3bde8794",
   "metadata": {},
   "outputs": [
    {
     "data": {
      "text/plain": [
       "Index(['name', 'id', 'nametype', 'recclass', 'mass (g)', 'fall', 'year',\n",
       "       'reclat', 'reclong', 'GeoLocation'],\n",
       "      dtype='object')"
      ]
     },
     "execution_count": 3,
     "metadata": {},
     "output_type": "execute_result"
    }
   ],
   "source": [
    "meteorites.columns"
   ]
  },
  {
   "cell_type": "markdown",
   "id": "659ffdf3",
   "metadata": {},
   "source": [
    "Spaltennamen müssen einzigartig sein. \n",
    "\n",
    "Ähnlich wie Schlüssel in einem `dict`."
   ]
  },
  {
   "cell_type": "markdown",
   "id": "f551654b-3a2d-463d-8f7d-b731729af6ee",
   "metadata": {},
   "source": [
    "#### Series:"
   ]
  },
  {
   "cell_type": "code",
   "execution_count": 4,
   "id": "9f080ea9-4e02-49b5-aff0-e33fbca0f70e",
   "metadata": {},
   "outputs": [
    {
     "data": {
      "text/plain": [
       "0      Aachen\n",
       "1      Aarhus\n",
       "2        Abee\n",
       "3    Acapulco\n",
       "4     Achiras\n",
       "Name: name, dtype: object"
      ]
     },
     "execution_count": 4,
     "metadata": {},
     "output_type": "execute_result"
    }
   ],
   "source": [
    "meteorites['name']"
   ]
  },
  {
   "cell_type": "code",
   "execution_count": 5,
   "id": "3680d8ad",
   "metadata": {},
   "outputs": [
    {
     "data": {
      "text/plain": [
       "pandas.core.series.Series"
      ]
     },
     "execution_count": 5,
     "metadata": {},
     "output_type": "execute_result"
    }
   ],
   "source": [
    "type(meteorites['name'])"
   ]
  },
  {
   "cell_type": "markdown",
   "id": "e8db9b93-c19f-4776-bf8a-46d680c5f9ad",
   "metadata": {},
   "source": [
    "#### Index:"
   ]
  },
  {
   "cell_type": "code",
   "execution_count": 6,
   "id": "f2527b06-8b03-4543-bbd6-4ecdf44078e2",
   "metadata": {},
   "outputs": [
    {
     "data": {
      "text/plain": [
       "RangeIndex(start=0, stop=5, step=1)"
      ]
     },
     "execution_count": 6,
     "metadata": {},
     "output_type": "execute_result"
    }
   ],
   "source": [
    "meteorites.index"
   ]
  },
  {
   "cell_type": "markdown",
   "id": "dd3f6f0c-b4b2-4d28-9ecb-2c2788253979",
   "metadata": {},
   "source": [
    "## DataFrame initialisieren\n",
    "\n",
    "Mögliche Datenquellen:\n",
    "- Python Objekte (dicts, numpy Arrays)\n",
    "- Textdateien\n",
    "- Spreadsheets\n",
    "- Datenbanken\n",
    "- APIs\n",
    "- ...\n",
    "\n",
    "Alle Optionen [hier](https://pandas.pydata.org/pandas-docs/stable/user_guide/io.html)."
   ]
  },
  {
   "cell_type": "markdown",
   "id": "2bf1de2a",
   "metadata": {},
   "source": [
    "### Python"
   ]
  },
  {
   "cell_type": "code",
   "execution_count": 7,
   "id": "c335bfe5",
   "metadata": {},
   "outputs": [
    {
     "data": {
      "text/html": [
       "<div>\n",
       "<style scoped>\n",
       "    .dataframe tbody tr th:only-of-type {\n",
       "        vertical-align: middle;\n",
       "    }\n",
       "\n",
       "    .dataframe tbody tr th {\n",
       "        vertical-align: top;\n",
       "    }\n",
       "\n",
       "    .dataframe thead th {\n",
       "        text-align: right;\n",
       "    }\n",
       "</style>\n",
       "<table border=\"1\" class=\"dataframe\">\n",
       "  <thead>\n",
       "    <tr style=\"text-align: right;\">\n",
       "      <th></th>\n",
       "      <th>col_a</th>\n",
       "      <th>col_b</th>\n",
       "    </tr>\n",
       "  </thead>\n",
       "  <tbody>\n",
       "    <tr>\n",
       "      <th>0</th>\n",
       "      <td>1</td>\n",
       "      <td>2</td>\n",
       "    </tr>\n",
       "    <tr>\n",
       "      <th>1</th>\n",
       "      <td>2</td>\n",
       "      <td>2</td>\n",
       "    </tr>\n",
       "    <tr>\n",
       "      <th>2</th>\n",
       "      <td>3</td>\n",
       "      <td>3</td>\n",
       "    </tr>\n",
       "    <tr>\n",
       "      <th>3</th>\n",
       "      <td>4</td>\n",
       "      <td>3</td>\n",
       "    </tr>\n",
       "  </tbody>\n",
       "</table>\n",
       "</div>"
      ],
      "text/plain": [
       "   col_a  col_b\n",
       "0      1      2\n",
       "1      2      2\n",
       "2      3      3\n",
       "3      4      3"
      ]
     },
     "execution_count": 7,
     "metadata": {},
     "output_type": "execute_result"
    }
   ],
   "source": [
    "pd.DataFrame(\n",
    "    {\n",
    "        'col_a': [1, 2, 3, 4],\n",
    "        'col_b': [2, 2, 3, 3],\n",
    "    }\n",
    ")"
   ]
  },
  {
   "cell_type": "markdown",
   "id": "4c12ce67-b1de-40a9-ad22-b39125f6b9cc",
   "metadata": {},
   "source": [
    "### API\n",
    "\n",
    "Herunterladen direkt vom [NASA Open Data Portal](https://data.nasa.gov/Space-Science/Meteorite-Landings/gh4g-9sfh) mit `requests`:"
   ]
  },
  {
   "cell_type": "code",
   "execution_count": 8,
   "id": "f1b681d4-e59f-4037-abcd-e48614691c9f",
   "metadata": {},
   "outputs": [
    {
     "data": {
      "text/html": [
       "<div>\n",
       "<style scoped>\n",
       "    .dataframe tbody tr th:only-of-type {\n",
       "        vertical-align: middle;\n",
       "    }\n",
       "\n",
       "    .dataframe tbody tr th {\n",
       "        vertical-align: top;\n",
       "    }\n",
       "\n",
       "    .dataframe thead th {\n",
       "        text-align: right;\n",
       "    }\n",
       "</style>\n",
       "<table border=\"1\" class=\"dataframe\">\n",
       "  <thead>\n",
       "    <tr style=\"text-align: right;\">\n",
       "      <th></th>\n",
       "      <th>name</th>\n",
       "      <th>id</th>\n",
       "      <th>nametype</th>\n",
       "      <th>recclass</th>\n",
       "      <th>mass</th>\n",
       "      <th>fall</th>\n",
       "      <th>year</th>\n",
       "      <th>reclat</th>\n",
       "      <th>reclong</th>\n",
       "      <th>geolocation</th>\n",
       "      <th>:@computed_region_cbhk_fwbd</th>\n",
       "      <th>:@computed_region_nnqa_25f4</th>\n",
       "    </tr>\n",
       "  </thead>\n",
       "  <tbody>\n",
       "    <tr>\n",
       "      <th>0</th>\n",
       "      <td>Aachen</td>\n",
       "      <td>1</td>\n",
       "      <td>Valid</td>\n",
       "      <td>L5</td>\n",
       "      <td>21</td>\n",
       "      <td>Fell</td>\n",
       "      <td>1880-01-01T00:00:00.000</td>\n",
       "      <td>50.775000</td>\n",
       "      <td>6.083330</td>\n",
       "      <td>{'latitude': '50.775', 'longitude': '6.08333'}</td>\n",
       "      <td>NaN</td>\n",
       "      <td>NaN</td>\n",
       "    </tr>\n",
       "    <tr>\n",
       "      <th>1</th>\n",
       "      <td>Aarhus</td>\n",
       "      <td>2</td>\n",
       "      <td>Valid</td>\n",
       "      <td>H6</td>\n",
       "      <td>720</td>\n",
       "      <td>Fell</td>\n",
       "      <td>1951-01-01T00:00:00.000</td>\n",
       "      <td>56.183330</td>\n",
       "      <td>10.233330</td>\n",
       "      <td>{'latitude': '56.18333', 'longitude': '10.23333'}</td>\n",
       "      <td>NaN</td>\n",
       "      <td>NaN</td>\n",
       "    </tr>\n",
       "    <tr>\n",
       "      <th>2</th>\n",
       "      <td>Abee</td>\n",
       "      <td>6</td>\n",
       "      <td>Valid</td>\n",
       "      <td>EH4</td>\n",
       "      <td>107000</td>\n",
       "      <td>Fell</td>\n",
       "      <td>1952-01-01T00:00:00.000</td>\n",
       "      <td>54.216670</td>\n",
       "      <td>-113.000000</td>\n",
       "      <td>{'latitude': '54.21667', 'longitude': '-113.0'}</td>\n",
       "      <td>NaN</td>\n",
       "      <td>NaN</td>\n",
       "    </tr>\n",
       "  </tbody>\n",
       "</table>\n",
       "</div>"
      ],
      "text/plain": [
       "     name id nametype recclass    mass  fall                     year  \\\n",
       "0  Aachen  1    Valid       L5      21  Fell  1880-01-01T00:00:00.000   \n",
       "1  Aarhus  2    Valid       H6     720  Fell  1951-01-01T00:00:00.000   \n",
       "2    Abee  6    Valid      EH4  107000  Fell  1952-01-01T00:00:00.000   \n",
       "\n",
       "      reclat      reclong                                        geolocation  \\\n",
       "0  50.775000     6.083330     {'latitude': '50.775', 'longitude': '6.08333'}   \n",
       "1  56.183330    10.233330  {'latitude': '56.18333', 'longitude': '10.23333'}   \n",
       "2  54.216670  -113.000000    {'latitude': '54.21667', 'longitude': '-113.0'}   \n",
       "\n",
       "  :@computed_region_cbhk_fwbd :@computed_region_nnqa_25f4  \n",
       "0                         NaN                         NaN  \n",
       "1                         NaN                         NaN  \n",
       "2                         NaN                         NaN  "
      ]
     },
     "execution_count": 8,
     "metadata": {},
     "output_type": "execute_result"
    }
   ],
   "source": [
    "import requests\n",
    "\n",
    "response = requests.get(\n",
    "    'https://data.nasa.gov/resource/gh4g-9sfh.json',\n",
    "    params={'$limit': 50_000}\n",
    ")\n",
    "\n",
    "if response.ok:\n",
    "    payload = response.json()\n",
    "else:\n",
    "    raise ValueError(f'Request was not successful and returned code: {response.status_code}.')\n",
    "\n",
    "df = pd.DataFrame(payload)\n",
    "df.head(3)"
   ]
  },
  {
   "cell_type": "markdown",
   "id": "20c5ca3a-bf32-48cc-8eb5-15fd678092e1",
   "metadata": {},
   "source": [
    "*Tip: Dann mit `df.to_csv('data.csv')` speichern.*"
   ]
  },
  {
   "cell_type": "markdown",
   "id": "4f10794d",
   "metadata": {},
   "source": [
    "### Von SQL-Datenbank\n",
    "\n",
    "```python\n",
    ">>> from adbc_driver_postgresql import dbapi  \n",
    ">>> with dbapi.connect('postgres:///db_name') as conn:  \n",
    "...     pd.read_sql('SELECT int_column FROM test_data', conn)\n",
    "   int_column\n",
    "0           0\n",
    "1           1\n",
    "```\n",
    "\n",
    "Etwas aufwändiger, Verbindung ist von der Art des Zugangs abhängig.\n",
    "\n",
    "https://pandas.pydata.org/docs/reference/api/pandas.read_sql.html"
   ]
  },
  {
   "cell_type": "markdown",
   "id": "f2d9d022",
   "metadata": {},
   "source": [
    "### Textdateien"
   ]
  },
  {
   "cell_type": "code",
   "execution_count": 9,
   "id": "3bb98b12",
   "metadata": {},
   "outputs": [],
   "source": [
    "# Diesmal alle Zeilen\n",
    "meteorites = pd.read_csv('../data/Meteorite_Landings.csv')"
   ]
  },
  {
   "cell_type": "markdown",
   "id": "f4364557-213a-4605-a8e9-d56d575e15db",
   "metadata": {},
   "source": [
    "## Introspektion"
   ]
  },
  {
   "cell_type": "markdown",
   "id": "c56fc4d1-805d-46ff-8ebb-ba00f2df713b",
   "metadata": {},
   "source": [
    "#### Wie viele Zeilen und Spalten?"
   ]
  },
  {
   "cell_type": "code",
   "execution_count": 10,
   "id": "24268ca3-aa52-491b-bc02-ed0a4d85be6f",
   "metadata": {},
   "outputs": [
    {
     "data": {
      "text/plain": [
       "(45716, 10)"
      ]
     },
     "execution_count": 10,
     "metadata": {},
     "output_type": "execute_result"
    }
   ],
   "source": [
    "meteorites.shape"
   ]
  },
  {
   "cell_type": "markdown",
   "id": "9113617e-b071-467c-afda-9813c4c60801",
   "metadata": {},
   "source": [
    "#### Was für Spaltenlabels?"
   ]
  },
  {
   "cell_type": "code",
   "execution_count": 11,
   "id": "eda374e6-8860-45cd-9625-1893b42c3518",
   "metadata": {},
   "outputs": [
    {
     "data": {
      "text/plain": [
       "Index(['name', 'id', 'nametype', 'recclass', 'mass (g)', 'fall', 'year',\n",
       "       'reclat', 'reclong', 'GeoLocation'],\n",
       "      dtype='object')"
      ]
     },
     "execution_count": 11,
     "metadata": {},
     "output_type": "execute_result"
    }
   ],
   "source": [
    "meteorites.columns"
   ]
  },
  {
   "cell_type": "markdown",
   "id": "e77d9d1a-6c64-4554-be7f-f0e0ecea556e",
   "metadata": {},
   "source": [
    "#### Datentypen der Spalten"
   ]
  },
  {
   "cell_type": "code",
   "execution_count": 12,
   "id": "ade5a00e-5056-4fc2-bd13-55eaa5cf0328",
   "metadata": {},
   "outputs": [
    {
     "data": {
      "text/plain": [
       "name            object\n",
       "id               int64\n",
       "nametype        object\n",
       "recclass        object\n",
       "mass (g)       float64\n",
       "fall            object\n",
       "year            object\n",
       "reclat         float64\n",
       "reclong        float64\n",
       "GeoLocation     object\n",
       "dtype: object"
      ]
     },
     "execution_count": 12,
     "metadata": {},
     "output_type": "execute_result"
    }
   ],
   "source": [
    "meteorites.dtypes"
   ]
  },
  {
   "cell_type": "markdown",
   "id": "2d878656-ee43-41ee-9d2a-8663f6b548de",
   "metadata": {},
   "source": [
    "#### Sehen Anfang und Ende schonmal gut aus?"
   ]
  },
  {
   "cell_type": "code",
   "execution_count": 13,
   "id": "5a04730d-0470-4038-82c1-26441299e3c2",
   "metadata": {},
   "outputs": [
    {
     "data": {
      "text/html": [
       "<div>\n",
       "<style scoped>\n",
       "    .dataframe tbody tr th:only-of-type {\n",
       "        vertical-align: middle;\n",
       "    }\n",
       "\n",
       "    .dataframe tbody tr th {\n",
       "        vertical-align: top;\n",
       "    }\n",
       "\n",
       "    .dataframe thead th {\n",
       "        text-align: right;\n",
       "    }\n",
       "</style>\n",
       "<table border=\"1\" class=\"dataframe\">\n",
       "  <thead>\n",
       "    <tr style=\"text-align: right;\">\n",
       "      <th></th>\n",
       "      <th>name</th>\n",
       "      <th>id</th>\n",
       "      <th>nametype</th>\n",
       "      <th>recclass</th>\n",
       "      <th>mass (g)</th>\n",
       "      <th>fall</th>\n",
       "      <th>year</th>\n",
       "      <th>reclat</th>\n",
       "      <th>reclong</th>\n",
       "      <th>GeoLocation</th>\n",
       "    </tr>\n",
       "  </thead>\n",
       "  <tbody>\n",
       "    <tr>\n",
       "      <th>0</th>\n",
       "      <td>Aachen</td>\n",
       "      <td>1</td>\n",
       "      <td>Valid</td>\n",
       "      <td>L5</td>\n",
       "      <td>21.0</td>\n",
       "      <td>Fell</td>\n",
       "      <td>01/01/1880 12:00:00 AM</td>\n",
       "      <td>50.77500</td>\n",
       "      <td>6.08333</td>\n",
       "      <td>(50.775, 6.08333)</td>\n",
       "    </tr>\n",
       "    <tr>\n",
       "      <th>1</th>\n",
       "      <td>Aarhus</td>\n",
       "      <td>2</td>\n",
       "      <td>Valid</td>\n",
       "      <td>H6</td>\n",
       "      <td>720.0</td>\n",
       "      <td>Fell</td>\n",
       "      <td>01/01/1951 12:00:00 AM</td>\n",
       "      <td>56.18333</td>\n",
       "      <td>10.23333</td>\n",
       "      <td>(56.18333, 10.23333)</td>\n",
       "    </tr>\n",
       "    <tr>\n",
       "      <th>2</th>\n",
       "      <td>Abee</td>\n",
       "      <td>6</td>\n",
       "      <td>Valid</td>\n",
       "      <td>EH4</td>\n",
       "      <td>107000.0</td>\n",
       "      <td>Fell</td>\n",
       "      <td>01/01/1952 12:00:00 AM</td>\n",
       "      <td>54.21667</td>\n",
       "      <td>-113.00000</td>\n",
       "      <td>(54.21667, -113.0)</td>\n",
       "    </tr>\n",
       "    <tr>\n",
       "      <th>3</th>\n",
       "      <td>Acapulco</td>\n",
       "      <td>10</td>\n",
       "      <td>Valid</td>\n",
       "      <td>Acapulcoite</td>\n",
       "      <td>1914.0</td>\n",
       "      <td>Fell</td>\n",
       "      <td>01/01/1976 12:00:00 AM</td>\n",
       "      <td>16.88333</td>\n",
       "      <td>-99.90000</td>\n",
       "      <td>(16.88333, -99.9)</td>\n",
       "    </tr>\n",
       "    <tr>\n",
       "      <th>4</th>\n",
       "      <td>Achiras</td>\n",
       "      <td>370</td>\n",
       "      <td>Valid</td>\n",
       "      <td>L6</td>\n",
       "      <td>780.0</td>\n",
       "      <td>Fell</td>\n",
       "      <td>01/01/1902 12:00:00 AM</td>\n",
       "      <td>-33.16667</td>\n",
       "      <td>-64.95000</td>\n",
       "      <td>(-33.16667, -64.95)</td>\n",
       "    </tr>\n",
       "  </tbody>\n",
       "</table>\n",
       "</div>"
      ],
      "text/plain": [
       "       name   id nametype     recclass  mass (g)  fall  \\\n",
       "0    Aachen    1    Valid           L5      21.0  Fell   \n",
       "1    Aarhus    2    Valid           H6     720.0  Fell   \n",
       "2      Abee    6    Valid          EH4  107000.0  Fell   \n",
       "3  Acapulco   10    Valid  Acapulcoite    1914.0  Fell   \n",
       "4   Achiras  370    Valid           L6     780.0  Fell   \n",
       "\n",
       "                     year    reclat    reclong           GeoLocation  \n",
       "0  01/01/1880 12:00:00 AM  50.77500    6.08333     (50.775, 6.08333)  \n",
       "1  01/01/1951 12:00:00 AM  56.18333   10.23333  (56.18333, 10.23333)  \n",
       "2  01/01/1952 12:00:00 AM  54.21667 -113.00000    (54.21667, -113.0)  \n",
       "3  01/01/1976 12:00:00 AM  16.88333  -99.90000     (16.88333, -99.9)  \n",
       "4  01/01/1902 12:00:00 AM -33.16667  -64.95000   (-33.16667, -64.95)  "
      ]
     },
     "execution_count": 13,
     "metadata": {},
     "output_type": "execute_result"
    }
   ],
   "source": [
    "meteorites.head()"
   ]
  },
  {
   "cell_type": "code",
   "execution_count": 14,
   "id": "94e84ed2-4022-4a65-9e4e-865b8bd4b04b",
   "metadata": {},
   "outputs": [
    {
     "data": {
      "text/html": [
       "<div>\n",
       "<style scoped>\n",
       "    .dataframe tbody tr th:only-of-type {\n",
       "        vertical-align: middle;\n",
       "    }\n",
       "\n",
       "    .dataframe tbody tr th {\n",
       "        vertical-align: top;\n",
       "    }\n",
       "\n",
       "    .dataframe thead th {\n",
       "        text-align: right;\n",
       "    }\n",
       "</style>\n",
       "<table border=\"1\" class=\"dataframe\">\n",
       "  <thead>\n",
       "    <tr style=\"text-align: right;\">\n",
       "      <th></th>\n",
       "      <th>name</th>\n",
       "      <th>id</th>\n",
       "      <th>nametype</th>\n",
       "      <th>recclass</th>\n",
       "      <th>mass (g)</th>\n",
       "      <th>fall</th>\n",
       "      <th>year</th>\n",
       "      <th>reclat</th>\n",
       "      <th>reclong</th>\n",
       "      <th>GeoLocation</th>\n",
       "    </tr>\n",
       "  </thead>\n",
       "  <tbody>\n",
       "    <tr>\n",
       "      <th>45711</th>\n",
       "      <td>Zillah 002</td>\n",
       "      <td>31356</td>\n",
       "      <td>Valid</td>\n",
       "      <td>Eucrite</td>\n",
       "      <td>172.0</td>\n",
       "      <td>Found</td>\n",
       "      <td>01/01/1990 12:00:00 AM</td>\n",
       "      <td>29.03700</td>\n",
       "      <td>17.01850</td>\n",
       "      <td>(29.037, 17.0185)</td>\n",
       "    </tr>\n",
       "    <tr>\n",
       "      <th>45712</th>\n",
       "      <td>Zinder</td>\n",
       "      <td>30409</td>\n",
       "      <td>Valid</td>\n",
       "      <td>Pallasite, ungrouped</td>\n",
       "      <td>46.0</td>\n",
       "      <td>Found</td>\n",
       "      <td>01/01/1999 12:00:00 AM</td>\n",
       "      <td>13.78333</td>\n",
       "      <td>8.96667</td>\n",
       "      <td>(13.78333, 8.96667)</td>\n",
       "    </tr>\n",
       "    <tr>\n",
       "      <th>45713</th>\n",
       "      <td>Zlin</td>\n",
       "      <td>30410</td>\n",
       "      <td>Valid</td>\n",
       "      <td>H4</td>\n",
       "      <td>3.3</td>\n",
       "      <td>Found</td>\n",
       "      <td>01/01/1939 12:00:00 AM</td>\n",
       "      <td>49.25000</td>\n",
       "      <td>17.66667</td>\n",
       "      <td>(49.25, 17.66667)</td>\n",
       "    </tr>\n",
       "    <tr>\n",
       "      <th>45714</th>\n",
       "      <td>Zubkovsky</td>\n",
       "      <td>31357</td>\n",
       "      <td>Valid</td>\n",
       "      <td>L6</td>\n",
       "      <td>2167.0</td>\n",
       "      <td>Found</td>\n",
       "      <td>01/01/2003 12:00:00 AM</td>\n",
       "      <td>49.78917</td>\n",
       "      <td>41.50460</td>\n",
       "      <td>(49.78917, 41.5046)</td>\n",
       "    </tr>\n",
       "    <tr>\n",
       "      <th>45715</th>\n",
       "      <td>Zulu Queen</td>\n",
       "      <td>30414</td>\n",
       "      <td>Valid</td>\n",
       "      <td>L3.7</td>\n",
       "      <td>200.0</td>\n",
       "      <td>Found</td>\n",
       "      <td>01/01/1976 12:00:00 AM</td>\n",
       "      <td>33.98333</td>\n",
       "      <td>-115.68333</td>\n",
       "      <td>(33.98333, -115.68333)</td>\n",
       "    </tr>\n",
       "  </tbody>\n",
       "</table>\n",
       "</div>"
      ],
      "text/plain": [
       "             name     id nametype              recclass  mass (g)   fall  \\\n",
       "45711  Zillah 002  31356    Valid               Eucrite     172.0  Found   \n",
       "45712      Zinder  30409    Valid  Pallasite, ungrouped      46.0  Found   \n",
       "45713        Zlin  30410    Valid                    H4       3.3  Found   \n",
       "45714   Zubkovsky  31357    Valid                    L6    2167.0  Found   \n",
       "45715  Zulu Queen  30414    Valid                  L3.7     200.0  Found   \n",
       "\n",
       "                         year    reclat    reclong             GeoLocation  \n",
       "45711  01/01/1990 12:00:00 AM  29.03700   17.01850       (29.037, 17.0185)  \n",
       "45712  01/01/1999 12:00:00 AM  13.78333    8.96667     (13.78333, 8.96667)  \n",
       "45713  01/01/1939 12:00:00 AM  49.25000   17.66667       (49.25, 17.66667)  \n",
       "45714  01/01/2003 12:00:00 AM  49.78917   41.50460     (49.78917, 41.5046)  \n",
       "45715  01/01/1976 12:00:00 AM  33.98333 -115.68333  (33.98333, -115.68333)  "
      ]
     },
     "execution_count": 14,
     "metadata": {},
     "output_type": "execute_result"
    }
   ],
   "source": [
    "meteorites.tail()"
   ]
  },
  {
   "cell_type": "markdown",
   "id": "c8fa5d96",
   "metadata": {},
   "source": [
    "#### Allgemeine Info im Überblick"
   ]
  },
  {
   "cell_type": "code",
   "execution_count": 15,
   "id": "befbd207-284a-4c4f-8617-ff155989ad5f",
   "metadata": {},
   "outputs": [
    {
     "name": "stdout",
     "output_type": "stream",
     "text": [
      "<class 'pandas.core.frame.DataFrame'>\n",
      "RangeIndex: 45716 entries, 0 to 45715\n",
      "Data columns (total 10 columns):\n",
      " #   Column       Non-Null Count  Dtype  \n",
      "---  ------       --------------  -----  \n",
      " 0   name         45716 non-null  object \n",
      " 1   id           45716 non-null  int64  \n",
      " 2   nametype     45716 non-null  object \n",
      " 3   recclass     45716 non-null  object \n",
      " 4   mass (g)     45585 non-null  float64\n",
      " 5   fall         45716 non-null  object \n",
      " 6   year         45425 non-null  object \n",
      " 7   reclat       38401 non-null  float64\n",
      " 8   reclong      38401 non-null  float64\n",
      " 9   GeoLocation  38401 non-null  object \n",
      "dtypes: float64(3), int64(1), object(6)\n",
      "memory usage: 3.5+ MB\n"
     ]
    }
   ],
   "source": [
    "meteorites.info()"
   ]
  },
  {
   "cell_type": "code",
   "execution_count": 16,
   "id": "e8ec428c",
   "metadata": {},
   "outputs": [
    {
     "data": {
      "text/html": [
       "<div>\n",
       "<style scoped>\n",
       "    .dataframe tbody tr th:only-of-type {\n",
       "        vertical-align: middle;\n",
       "    }\n",
       "\n",
       "    .dataframe tbody tr th {\n",
       "        vertical-align: top;\n",
       "    }\n",
       "\n",
       "    .dataframe thead th {\n",
       "        text-align: right;\n",
       "    }\n",
       "</style>\n",
       "<table border=\"1\" class=\"dataframe\">\n",
       "  <thead>\n",
       "    <tr style=\"text-align: right;\">\n",
       "      <th></th>\n",
       "      <th>id</th>\n",
       "      <th>mass (g)</th>\n",
       "      <th>reclat</th>\n",
       "      <th>reclong</th>\n",
       "    </tr>\n",
       "  </thead>\n",
       "  <tbody>\n",
       "    <tr>\n",
       "      <th>count</th>\n",
       "      <td>45716.000000</td>\n",
       "      <td>4.558500e+04</td>\n",
       "      <td>38401.000000</td>\n",
       "      <td>38401.000000</td>\n",
       "    </tr>\n",
       "    <tr>\n",
       "      <th>mean</th>\n",
       "      <td>26889.735104</td>\n",
       "      <td>1.327808e+04</td>\n",
       "      <td>-39.122580</td>\n",
       "      <td>61.074319</td>\n",
       "    </tr>\n",
       "    <tr>\n",
       "      <th>std</th>\n",
       "      <td>16860.683030</td>\n",
       "      <td>5.749889e+05</td>\n",
       "      <td>46.378511</td>\n",
       "      <td>80.647298</td>\n",
       "    </tr>\n",
       "    <tr>\n",
       "      <th>min</th>\n",
       "      <td>1.000000</td>\n",
       "      <td>0.000000e+00</td>\n",
       "      <td>-87.366670</td>\n",
       "      <td>-165.433330</td>\n",
       "    </tr>\n",
       "    <tr>\n",
       "      <th>25%</th>\n",
       "      <td>12688.750000</td>\n",
       "      <td>7.200000e+00</td>\n",
       "      <td>-76.714240</td>\n",
       "      <td>0.000000</td>\n",
       "    </tr>\n",
       "    <tr>\n",
       "      <th>50%</th>\n",
       "      <td>24261.500000</td>\n",
       "      <td>3.260000e+01</td>\n",
       "      <td>-71.500000</td>\n",
       "      <td>35.666670</td>\n",
       "    </tr>\n",
       "    <tr>\n",
       "      <th>75%</th>\n",
       "      <td>40656.750000</td>\n",
       "      <td>2.026000e+02</td>\n",
       "      <td>0.000000</td>\n",
       "      <td>157.166670</td>\n",
       "    </tr>\n",
       "    <tr>\n",
       "      <th>max</th>\n",
       "      <td>57458.000000</td>\n",
       "      <td>6.000000e+07</td>\n",
       "      <td>81.166670</td>\n",
       "      <td>354.473330</td>\n",
       "    </tr>\n",
       "  </tbody>\n",
       "</table>\n",
       "</div>"
      ],
      "text/plain": [
       "                 id      mass (g)        reclat       reclong\n",
       "count  45716.000000  4.558500e+04  38401.000000  38401.000000\n",
       "mean   26889.735104  1.327808e+04    -39.122580     61.074319\n",
       "std    16860.683030  5.749889e+05     46.378511     80.647298\n",
       "min        1.000000  0.000000e+00    -87.366670   -165.433330\n",
       "25%    12688.750000  7.200000e+00    -76.714240      0.000000\n",
       "50%    24261.500000  3.260000e+01    -71.500000     35.666670\n",
       "75%    40656.750000  2.026000e+02      0.000000    157.166670\n",
       "max    57458.000000  6.000000e+07     81.166670    354.473330"
      ]
     },
     "execution_count": 16,
     "metadata": {},
     "output_type": "execute_result"
    }
   ],
   "source": [
    "meteorites.describe()"
   ]
  },
  {
   "cell_type": "markdown",
   "id": "6a56f10e-6c16-48ac-a55c-99e63f8ca2e3",
   "metadata": {},
   "source": [
    "### Übung 1.1\n",
    "\n",
    "##### Erzeuge einen DataFrame aus der Datei `2019_Yellow_Taxi_Trip_Data.csv`. Zeige nur die ersten 3 Zeilen an.\n",
    "\n",
    "### Übung 1.2\n",
    "\n",
    "##### Was hat der DataFrame für Dimensionen (Anzahl Spalten und Zeilen)?\n"
   ]
  },
  {
   "cell_type": "code",
   "execution_count": null,
   "id": "18099426",
   "metadata": {},
   "outputs": [],
   "source": []
  },
  {
   "cell_type": "markdown",
   "id": "0162420f",
   "metadata": {},
   "source": [
    "\n",
    ".\n",
    "\n",
    ".\n",
    "\n",
    ".\n",
    "\n",
    ".\n",
    "\n",
    ".\n",
    "\n",
    ".\n",
    "\n",
    ".\n",
    "\n",
    ".\n",
    "\n",
    ".\n",
    "\n",
    ".\n",
    "\n",
    ".\n",
    "\n",
    "."
   ]
  },
  {
   "cell_type": "markdown",
   "id": "901a1bc8-ce7e-42cb-a9c7-3f156569040a",
   "metadata": {},
   "source": [
    "### Lösungen"
   ]
  },
  {
   "cell_type": "code",
   "execution_count": 17,
   "id": "bc548d6b-9a86-4acf-9860-24b05f9b842e",
   "metadata": {},
   "outputs": [
    {
     "data": {
      "text/html": [
       "<div>\n",
       "<style scoped>\n",
       "    .dataframe tbody tr th:only-of-type {\n",
       "        vertical-align: middle;\n",
       "    }\n",
       "\n",
       "    .dataframe tbody tr th {\n",
       "        vertical-align: top;\n",
       "    }\n",
       "\n",
       "    .dataframe thead th {\n",
       "        text-align: right;\n",
       "    }\n",
       "</style>\n",
       "<table border=\"1\" class=\"dataframe\">\n",
       "  <thead>\n",
       "    <tr style=\"text-align: right;\">\n",
       "      <th></th>\n",
       "      <th>vendorid</th>\n",
       "      <th>tpep_pickup_datetime</th>\n",
       "      <th>tpep_dropoff_datetime</th>\n",
       "      <th>passenger_count</th>\n",
       "      <th>trip_distance</th>\n",
       "      <th>ratecodeid</th>\n",
       "      <th>store_and_fwd_flag</th>\n",
       "      <th>pulocationid</th>\n",
       "      <th>dolocationid</th>\n",
       "      <th>payment_type</th>\n",
       "      <th>fare_amount</th>\n",
       "      <th>extra</th>\n",
       "      <th>mta_tax</th>\n",
       "      <th>tip_amount</th>\n",
       "      <th>tolls_amount</th>\n",
       "      <th>improvement_surcharge</th>\n",
       "      <th>total_amount</th>\n",
       "      <th>congestion_surcharge</th>\n",
       "    </tr>\n",
       "  </thead>\n",
       "  <tbody>\n",
       "    <tr>\n",
       "      <th>0</th>\n",
       "      <td>2</td>\n",
       "      <td>2019-10-23T16:39:42.000</td>\n",
       "      <td>2019-10-23T17:14:10.000</td>\n",
       "      <td>1</td>\n",
       "      <td>7.93</td>\n",
       "      <td>1</td>\n",
       "      <td>N</td>\n",
       "      <td>138</td>\n",
       "      <td>170</td>\n",
       "      <td>1</td>\n",
       "      <td>29.5</td>\n",
       "      <td>1.0</td>\n",
       "      <td>0.5</td>\n",
       "      <td>7.98</td>\n",
       "      <td>6.12</td>\n",
       "      <td>0.3</td>\n",
       "      <td>47.9</td>\n",
       "      <td>2.5</td>\n",
       "    </tr>\n",
       "    <tr>\n",
       "      <th>1</th>\n",
       "      <td>1</td>\n",
       "      <td>2019-10-23T16:32:08.000</td>\n",
       "      <td>2019-10-23T16:45:26.000</td>\n",
       "      <td>1</td>\n",
       "      <td>2.00</td>\n",
       "      <td>1</td>\n",
       "      <td>N</td>\n",
       "      <td>11</td>\n",
       "      <td>26</td>\n",
       "      <td>1</td>\n",
       "      <td>10.5</td>\n",
       "      <td>1.0</td>\n",
       "      <td>0.5</td>\n",
       "      <td>0.00</td>\n",
       "      <td>0.00</td>\n",
       "      <td>0.3</td>\n",
       "      <td>12.3</td>\n",
       "      <td>0.0</td>\n",
       "    </tr>\n",
       "    <tr>\n",
       "      <th>2</th>\n",
       "      <td>2</td>\n",
       "      <td>2019-10-23T16:08:44.000</td>\n",
       "      <td>2019-10-23T16:21:11.000</td>\n",
       "      <td>1</td>\n",
       "      <td>1.36</td>\n",
       "      <td>1</td>\n",
       "      <td>N</td>\n",
       "      <td>163</td>\n",
       "      <td>162</td>\n",
       "      <td>1</td>\n",
       "      <td>9.5</td>\n",
       "      <td>1.0</td>\n",
       "      <td>0.5</td>\n",
       "      <td>2.00</td>\n",
       "      <td>0.00</td>\n",
       "      <td>0.3</td>\n",
       "      <td>15.8</td>\n",
       "      <td>2.5</td>\n",
       "    </tr>\n",
       "  </tbody>\n",
       "</table>\n",
       "</div>"
      ],
      "text/plain": [
       "   vendorid     tpep_pickup_datetime    tpep_dropoff_datetime  \\\n",
       "0         2  2019-10-23T16:39:42.000  2019-10-23T17:14:10.000   \n",
       "1         1  2019-10-23T16:32:08.000  2019-10-23T16:45:26.000   \n",
       "2         2  2019-10-23T16:08:44.000  2019-10-23T16:21:11.000   \n",
       "\n",
       "   passenger_count  trip_distance  ratecodeid store_and_fwd_flag  \\\n",
       "0                1           7.93           1                  N   \n",
       "1                1           2.00           1                  N   \n",
       "2                1           1.36           1                  N   \n",
       "\n",
       "   pulocationid  dolocationid  payment_type  fare_amount  extra  mta_tax  \\\n",
       "0           138           170             1         29.5    1.0      0.5   \n",
       "1            11            26             1         10.5    1.0      0.5   \n",
       "2           163           162             1          9.5    1.0      0.5   \n",
       "\n",
       "   tip_amount  tolls_amount  improvement_surcharge  total_amount  \\\n",
       "0        7.98          6.12                    0.3          47.9   \n",
       "1        0.00          0.00                    0.3          12.3   \n",
       "2        2.00          0.00                    0.3          15.8   \n",
       "\n",
       "   congestion_surcharge  \n",
       "0                   2.5  \n",
       "1                   0.0  \n",
       "2                   2.5  "
      ]
     },
     "execution_count": 17,
     "metadata": {},
     "output_type": "execute_result"
    }
   ],
   "source": [
    "import pandas as pd\n",
    "\n",
    "taxis = pd.read_csv('../data/2019_Yellow_Taxi_Trip_Data.csv')\n",
    "taxis.head(3)"
   ]
  },
  {
   "cell_type": "markdown",
   "id": "e93f4eec-fd42-4737-b0f0-5006965bb25c",
   "metadata": {},
   "source": [
    "*Quelle: [NYC Open Data](https://data.cityofnewyork.us/Transportation/2019-Yellow-Taxi-Trip-Data/2upf-qytp) collected via [SODA](https://dev.socrata.com/foundry/data.cityofnewyork.us/2upf-qytp).*"
   ]
  },
  {
   "cell_type": "code",
   "execution_count": 18,
   "id": "585301c3-97e4-4a8e-b899-d0bfb40ece60",
   "metadata": {},
   "outputs": [
    {
     "data": {
      "text/plain": [
       "(10000, 18)"
      ]
     },
     "execution_count": 18,
     "metadata": {},
     "output_type": "execute_result"
    }
   ],
   "source": [
    "taxis.shape"
   ]
  },
  {
   "cell_type": "markdown",
   "id": "a348133a-b5a2-4e5b-b680-305c16dca0f3",
   "metadata": {},
   "source": [
    "## Indexing, Slicing, Filtering\n",
    "\n",
    "Alle Möglichkeiten aus NumPy, und Auswahl über Labels."
   ]
  },
  {
   "cell_type": "markdown",
   "id": "51afc2d0-aec1-4e92-a329-db7562189a54",
   "metadata": {},
   "source": [
    "#### Mehrere Spalten auswählen"
   ]
  },
  {
   "cell_type": "code",
   "execution_count": 19,
   "id": "8d7ece3d-fb40-45af-9d6b-ee7218b3a27e",
   "metadata": {},
   "outputs": [
    {
     "data": {
      "text/html": [
       "<div>\n",
       "<style scoped>\n",
       "    .dataframe tbody tr th:only-of-type {\n",
       "        vertical-align: middle;\n",
       "    }\n",
       "\n",
       "    .dataframe tbody tr th {\n",
       "        vertical-align: top;\n",
       "    }\n",
       "\n",
       "    .dataframe thead th {\n",
       "        text-align: right;\n",
       "    }\n",
       "</style>\n",
       "<table border=\"1\" class=\"dataframe\">\n",
       "  <thead>\n",
       "    <tr style=\"text-align: right;\">\n",
       "      <th></th>\n",
       "      <th>name</th>\n",
       "      <th>mass (g)</th>\n",
       "    </tr>\n",
       "  </thead>\n",
       "  <tbody>\n",
       "    <tr>\n",
       "      <th>0</th>\n",
       "      <td>Aachen</td>\n",
       "      <td>21.0</td>\n",
       "    </tr>\n",
       "    <tr>\n",
       "      <th>1</th>\n",
       "      <td>Aarhus</td>\n",
       "      <td>720.0</td>\n",
       "    </tr>\n",
       "    <tr>\n",
       "      <th>2</th>\n",
       "      <td>Abee</td>\n",
       "      <td>107000.0</td>\n",
       "    </tr>\n",
       "    <tr>\n",
       "      <th>3</th>\n",
       "      <td>Acapulco</td>\n",
       "      <td>1914.0</td>\n",
       "    </tr>\n",
       "    <tr>\n",
       "      <th>4</th>\n",
       "      <td>Achiras</td>\n",
       "      <td>780.0</td>\n",
       "    </tr>\n",
       "    <tr>\n",
       "      <th>...</th>\n",
       "      <td>...</td>\n",
       "      <td>...</td>\n",
       "    </tr>\n",
       "    <tr>\n",
       "      <th>45711</th>\n",
       "      <td>Zillah 002</td>\n",
       "      <td>172.0</td>\n",
       "    </tr>\n",
       "    <tr>\n",
       "      <th>45712</th>\n",
       "      <td>Zinder</td>\n",
       "      <td>46.0</td>\n",
       "    </tr>\n",
       "    <tr>\n",
       "      <th>45713</th>\n",
       "      <td>Zlin</td>\n",
       "      <td>3.3</td>\n",
       "    </tr>\n",
       "    <tr>\n",
       "      <th>45714</th>\n",
       "      <td>Zubkovsky</td>\n",
       "      <td>2167.0</td>\n",
       "    </tr>\n",
       "    <tr>\n",
       "      <th>45715</th>\n",
       "      <td>Zulu Queen</td>\n",
       "      <td>200.0</td>\n",
       "    </tr>\n",
       "  </tbody>\n",
       "</table>\n",
       "<p>45716 rows × 2 columns</p>\n",
       "</div>"
      ],
      "text/plain": [
       "             name  mass (g)\n",
       "0          Aachen      21.0\n",
       "1          Aarhus     720.0\n",
       "2            Abee  107000.0\n",
       "3        Acapulco    1914.0\n",
       "4         Achiras     780.0\n",
       "...           ...       ...\n",
       "45711  Zillah 002     172.0\n",
       "45712      Zinder      46.0\n",
       "45713        Zlin       3.3\n",
       "45714   Zubkovsky    2167.0\n",
       "45715  Zulu Queen     200.0\n",
       "\n",
       "[45716 rows x 2 columns]"
      ]
     },
     "execution_count": 19,
     "metadata": {},
     "output_type": "execute_result"
    }
   ],
   "source": [
    "meteorites[['name', 'mass (g)']]"
   ]
  },
  {
   "cell_type": "markdown",
   "id": "13e1ad0e-11af-4f01-9ddd-b1cd4dc4337e",
   "metadata": {},
   "source": [
    "#### Slicing über Zeilen"
   ]
  },
  {
   "cell_type": "code",
   "execution_count": 20,
   "id": "cd449e0c-17e6-47b2-b7f9-512320090df1",
   "metadata": {},
   "outputs": [
    {
     "data": {
      "text/html": [
       "<div>\n",
       "<style scoped>\n",
       "    .dataframe tbody tr th:only-of-type {\n",
       "        vertical-align: middle;\n",
       "    }\n",
       "\n",
       "    .dataframe tbody tr th {\n",
       "        vertical-align: top;\n",
       "    }\n",
       "\n",
       "    .dataframe thead th {\n",
       "        text-align: right;\n",
       "    }\n",
       "</style>\n",
       "<table border=\"1\" class=\"dataframe\">\n",
       "  <thead>\n",
       "    <tr style=\"text-align: right;\">\n",
       "      <th></th>\n",
       "      <th>name</th>\n",
       "      <th>id</th>\n",
       "      <th>nametype</th>\n",
       "      <th>recclass</th>\n",
       "      <th>mass (g)</th>\n",
       "      <th>fall</th>\n",
       "      <th>year</th>\n",
       "      <th>reclat</th>\n",
       "      <th>reclong</th>\n",
       "      <th>GeoLocation</th>\n",
       "    </tr>\n",
       "  </thead>\n",
       "  <tbody>\n",
       "    <tr>\n",
       "      <th>100</th>\n",
       "      <td>Benton</td>\n",
       "      <td>5026</td>\n",
       "      <td>Valid</td>\n",
       "      <td>LL6</td>\n",
       "      <td>2840.0</td>\n",
       "      <td>Fell</td>\n",
       "      <td>01/01/1949 12:00:00 AM</td>\n",
       "      <td>45.95000</td>\n",
       "      <td>-67.55000</td>\n",
       "      <td>(45.95, -67.55)</td>\n",
       "    </tr>\n",
       "    <tr>\n",
       "      <th>101</th>\n",
       "      <td>Berduc</td>\n",
       "      <td>48975</td>\n",
       "      <td>Valid</td>\n",
       "      <td>L6</td>\n",
       "      <td>270.0</td>\n",
       "      <td>Fell</td>\n",
       "      <td>01/01/2008 12:00:00 AM</td>\n",
       "      <td>-31.91000</td>\n",
       "      <td>-58.32833</td>\n",
       "      <td>(-31.91, -58.32833)</td>\n",
       "    </tr>\n",
       "    <tr>\n",
       "      <th>102</th>\n",
       "      <td>Béréba</td>\n",
       "      <td>5028</td>\n",
       "      <td>Valid</td>\n",
       "      <td>Eucrite-mmict</td>\n",
       "      <td>18000.0</td>\n",
       "      <td>Fell</td>\n",
       "      <td>01/01/1924 12:00:00 AM</td>\n",
       "      <td>11.65000</td>\n",
       "      <td>-3.65000</td>\n",
       "      <td>(11.65, -3.65)</td>\n",
       "    </tr>\n",
       "    <tr>\n",
       "      <th>103</th>\n",
       "      <td>Berlanguillas</td>\n",
       "      <td>5029</td>\n",
       "      <td>Valid</td>\n",
       "      <td>L6</td>\n",
       "      <td>1440.0</td>\n",
       "      <td>Fell</td>\n",
       "      <td>01/01/1811 12:00:00 AM</td>\n",
       "      <td>41.68333</td>\n",
       "      <td>-3.80000</td>\n",
       "      <td>(41.68333, -3.8)</td>\n",
       "    </tr>\n",
       "  </tbody>\n",
       "</table>\n",
       "</div>"
      ],
      "text/plain": [
       "              name     id nametype       recclass  mass (g)  fall  \\\n",
       "100         Benton   5026    Valid            LL6    2840.0  Fell   \n",
       "101         Berduc  48975    Valid             L6     270.0  Fell   \n",
       "102         Béréba   5028    Valid  Eucrite-mmict   18000.0  Fell   \n",
       "103  Berlanguillas   5029    Valid             L6    1440.0  Fell   \n",
       "\n",
       "                       year    reclat   reclong          GeoLocation  \n",
       "100  01/01/1949 12:00:00 AM  45.95000 -67.55000      (45.95, -67.55)  \n",
       "101  01/01/2008 12:00:00 AM -31.91000 -58.32833  (-31.91, -58.32833)  \n",
       "102  01/01/1924 12:00:00 AM  11.65000  -3.65000       (11.65, -3.65)  \n",
       "103  01/01/1811 12:00:00 AM  41.68333  -3.80000     (41.68333, -3.8)  "
      ]
     },
     "execution_count": 20,
     "metadata": {},
     "output_type": "execute_result"
    }
   ],
   "source": [
    "meteorites[100:104]"
   ]
  },
  {
   "cell_type": "markdown",
   "id": "6c8bf6a3-bcc2-448f-a6d4-44b5b01293e5",
   "metadata": {},
   "source": [
    "#### Indexing über Position\n",
    "\n",
    "Analog zu NumPy mit `iloc[]`."
   ]
  },
  {
   "cell_type": "code",
   "execution_count": 21,
   "id": "4ff42eae-fa1d-4936-bb13-a020281b0728",
   "metadata": {},
   "outputs": [
    {
     "data": {
      "text/html": [
       "<div>\n",
       "<style scoped>\n",
       "    .dataframe tbody tr th:only-of-type {\n",
       "        vertical-align: middle;\n",
       "    }\n",
       "\n",
       "    .dataframe tbody tr th {\n",
       "        vertical-align: top;\n",
       "    }\n",
       "\n",
       "    .dataframe thead th {\n",
       "        text-align: right;\n",
       "    }\n",
       "</style>\n",
       "<table border=\"1\" class=\"dataframe\">\n",
       "  <thead>\n",
       "    <tr style=\"text-align: right;\">\n",
       "      <th></th>\n",
       "      <th>name</th>\n",
       "      <th>recclass</th>\n",
       "      <th>mass (g)</th>\n",
       "      <th>year</th>\n",
       "    </tr>\n",
       "  </thead>\n",
       "  <tbody>\n",
       "    <tr>\n",
       "      <th>100</th>\n",
       "      <td>Benton</td>\n",
       "      <td>LL6</td>\n",
       "      <td>2840.0</td>\n",
       "      <td>01/01/1949 12:00:00 AM</td>\n",
       "    </tr>\n",
       "    <tr>\n",
       "      <th>101</th>\n",
       "      <td>Berduc</td>\n",
       "      <td>L6</td>\n",
       "      <td>270.0</td>\n",
       "      <td>01/01/2008 12:00:00 AM</td>\n",
       "    </tr>\n",
       "    <tr>\n",
       "      <th>102</th>\n",
       "      <td>Béréba</td>\n",
       "      <td>Eucrite-mmict</td>\n",
       "      <td>18000.0</td>\n",
       "      <td>01/01/1924 12:00:00 AM</td>\n",
       "    </tr>\n",
       "    <tr>\n",
       "      <th>103</th>\n",
       "      <td>Berlanguillas</td>\n",
       "      <td>L6</td>\n",
       "      <td>1440.0</td>\n",
       "      <td>01/01/1811 12:00:00 AM</td>\n",
       "    </tr>\n",
       "  </tbody>\n",
       "</table>\n",
       "</div>"
      ],
      "text/plain": [
       "              name       recclass  mass (g)                    year\n",
       "100         Benton            LL6    2840.0  01/01/1949 12:00:00 AM\n",
       "101         Berduc             L6     270.0  01/01/2008 12:00:00 AM\n",
       "102         Béréba  Eucrite-mmict   18000.0  01/01/1924 12:00:00 AM\n",
       "103  Berlanguillas             L6    1440.0  01/01/1811 12:00:00 AM"
      ]
     },
     "execution_count": 21,
     "metadata": {},
     "output_type": "execute_result"
    }
   ],
   "source": [
    "meteorites.iloc[100:104, [0, 3, 4, 6]]"
   ]
  },
  {
   "cell_type": "markdown",
   "id": "1c9690c7-1f45-450c-ba8e-0b70fc1e3e6a",
   "metadata": {},
   "source": [
    "Oder über die Namen im Index mit `loc[]`:"
   ]
  },
  {
   "cell_type": "code",
   "execution_count": 22,
   "id": "bba2c44a-aea5-4482-b087-673104aa9b32",
   "metadata": {},
   "outputs": [
    {
     "data": {
      "text/html": [
       "<div>\n",
       "<style scoped>\n",
       "    .dataframe tbody tr th:only-of-type {\n",
       "        vertical-align: middle;\n",
       "    }\n",
       "\n",
       "    .dataframe tbody tr th {\n",
       "        vertical-align: top;\n",
       "    }\n",
       "\n",
       "    .dataframe thead th {\n",
       "        text-align: right;\n",
       "    }\n",
       "</style>\n",
       "<table border=\"1\" class=\"dataframe\">\n",
       "  <thead>\n",
       "    <tr style=\"text-align: right;\">\n",
       "      <th></th>\n",
       "      <th>mass (g)</th>\n",
       "      <th>fall</th>\n",
       "      <th>year</th>\n",
       "    </tr>\n",
       "  </thead>\n",
       "  <tbody>\n",
       "    <tr>\n",
       "      <th>100</th>\n",
       "      <td>2840.0</td>\n",
       "      <td>Fell</td>\n",
       "      <td>01/01/1949 12:00:00 AM</td>\n",
       "    </tr>\n",
       "    <tr>\n",
       "      <th>101</th>\n",
       "      <td>270.0</td>\n",
       "      <td>Fell</td>\n",
       "      <td>01/01/2008 12:00:00 AM</td>\n",
       "    </tr>\n",
       "    <tr>\n",
       "      <th>102</th>\n",
       "      <td>18000.0</td>\n",
       "      <td>Fell</td>\n",
       "      <td>01/01/1924 12:00:00 AM</td>\n",
       "    </tr>\n",
       "    <tr>\n",
       "      <th>103</th>\n",
       "      <td>1440.0</td>\n",
       "      <td>Fell</td>\n",
       "      <td>01/01/1811 12:00:00 AM</td>\n",
       "    </tr>\n",
       "    <tr>\n",
       "      <th>104</th>\n",
       "      <td>960.0</td>\n",
       "      <td>Fell</td>\n",
       "      <td>01/01/2004 12:00:00 AM</td>\n",
       "    </tr>\n",
       "  </tbody>\n",
       "</table>\n",
       "</div>"
      ],
      "text/plain": [
       "     mass (g)  fall                    year\n",
       "100    2840.0  Fell  01/01/1949 12:00:00 AM\n",
       "101     270.0  Fell  01/01/2008 12:00:00 AM\n",
       "102   18000.0  Fell  01/01/1924 12:00:00 AM\n",
       "103    1440.0  Fell  01/01/1811 12:00:00 AM\n",
       "104     960.0  Fell  01/01/2004 12:00:00 AM"
      ]
     },
     "execution_count": 22,
     "metadata": {},
     "output_type": "execute_result"
    }
   ],
   "source": [
    "meteorites.loc[100:104, 'mass (g)':'year']"
   ]
  },
  {
   "cell_type": "markdown",
   "id": "177e4fc3-9cd5-4e61-8ac0-f024a8cd15a3",
   "metadata": {},
   "source": [
    "#### Filtering mit `bool` Maske"
   ]
  },
  {
   "cell_type": "markdown",
   "id": "40dcbfaf-acd3-4ca3-8582-07d9eedafc3d",
   "metadata": {},
   "source": [
    "Maske für alle Meteoriten mit Masse über 50g die aufgefunden wurden."
   ]
  },
  {
   "cell_type": "code",
   "execution_count": 23,
   "id": "f0dcb663-dddc-487e-83e5-b41b4fdaa903",
   "metadata": {},
   "outputs": [
    {
     "data": {
      "text/plain": [
       "0        False\n",
       "1        False\n",
       "2        False\n",
       "3        False\n",
       "4        False\n",
       "         ...  \n",
       "45711     True\n",
       "45712    False\n",
       "45713    False\n",
       "45714     True\n",
       "45715     True\n",
       "Length: 45716, dtype: bool"
      ]
     },
     "execution_count": 23,
     "metadata": {},
     "output_type": "execute_result"
    }
   ],
   "source": [
    "(meteorites['mass (g)'] > 50) & (meteorites.fall == 'Found')"
   ]
  },
  {
   "cell_type": "markdown",
   "id": "c5eb55fd-5d09-4da8-be4b-f588b58943d2",
   "metadata": {},
   "source": [
    "**Achtung**: Wie bei NumPy müssen die Bedingungen eingeklammert sein, und die bitwise Operatoren (`&`, `|`, `~`) statt der logischen Operatoren (`and`, `or`, `not`) verwendet werden."
   ]
  },
  {
   "cell_type": "code",
   "execution_count": 24,
   "id": "18294622-156a-426f-b6bf-674315b74bf2",
   "metadata": {},
   "outputs": [
    {
     "data": {
      "text/html": [
       "<div>\n",
       "<style scoped>\n",
       "    .dataframe tbody tr th:only-of-type {\n",
       "        vertical-align: middle;\n",
       "    }\n",
       "\n",
       "    .dataframe tbody tr th {\n",
       "        vertical-align: top;\n",
       "    }\n",
       "\n",
       "    .dataframe thead th {\n",
       "        text-align: right;\n",
       "    }\n",
       "</style>\n",
       "<table border=\"1\" class=\"dataframe\">\n",
       "  <thead>\n",
       "    <tr style=\"text-align: right;\">\n",
       "      <th></th>\n",
       "      <th>name</th>\n",
       "      <th>id</th>\n",
       "      <th>nametype</th>\n",
       "      <th>recclass</th>\n",
       "      <th>mass (g)</th>\n",
       "      <th>fall</th>\n",
       "      <th>year</th>\n",
       "      <th>reclat</th>\n",
       "      <th>reclong</th>\n",
       "      <th>GeoLocation</th>\n",
       "    </tr>\n",
       "  </thead>\n",
       "  <tbody>\n",
       "    <tr>\n",
       "      <th>29</th>\n",
       "      <td>Allende</td>\n",
       "      <td>2278</td>\n",
       "      <td>Valid</td>\n",
       "      <td>CV3</td>\n",
       "      <td>2000000.0</td>\n",
       "      <td>Fell</td>\n",
       "      <td>01/01/1969 12:00:00 AM</td>\n",
       "      <td>26.96667</td>\n",
       "      <td>-105.31667</td>\n",
       "      <td>(26.96667, -105.31667)</td>\n",
       "    </tr>\n",
       "    <tr>\n",
       "      <th>419</th>\n",
       "      <td>Jilin</td>\n",
       "      <td>12171</td>\n",
       "      <td>Valid</td>\n",
       "      <td>H5</td>\n",
       "      <td>4000000.0</td>\n",
       "      <td>Fell</td>\n",
       "      <td>01/01/1976 12:00:00 AM</td>\n",
       "      <td>44.05000</td>\n",
       "      <td>126.16667</td>\n",
       "      <td>(44.05, 126.16667)</td>\n",
       "    </tr>\n",
       "    <tr>\n",
       "      <th>506</th>\n",
       "      <td>Kunya-Urgench</td>\n",
       "      <td>12379</td>\n",
       "      <td>Valid</td>\n",
       "      <td>H5</td>\n",
       "      <td>1100000.0</td>\n",
       "      <td>Fell</td>\n",
       "      <td>01/01/1998 12:00:00 AM</td>\n",
       "      <td>42.25000</td>\n",
       "      <td>59.20000</td>\n",
       "      <td>(42.25, 59.2)</td>\n",
       "    </tr>\n",
       "    <tr>\n",
       "      <th>707</th>\n",
       "      <td>Norton County</td>\n",
       "      <td>17922</td>\n",
       "      <td>Valid</td>\n",
       "      <td>Aubrite</td>\n",
       "      <td>1100000.0</td>\n",
       "      <td>Fell</td>\n",
       "      <td>01/01/1948 12:00:00 AM</td>\n",
       "      <td>39.68333</td>\n",
       "      <td>-99.86667</td>\n",
       "      <td>(39.68333, -99.86667)</td>\n",
       "    </tr>\n",
       "    <tr>\n",
       "      <th>920</th>\n",
       "      <td>Sikhote-Alin</td>\n",
       "      <td>23593</td>\n",
       "      <td>Valid</td>\n",
       "      <td>Iron, IIAB</td>\n",
       "      <td>23000000.0</td>\n",
       "      <td>Fell</td>\n",
       "      <td>01/01/1947 12:00:00 AM</td>\n",
       "      <td>46.16000</td>\n",
       "      <td>134.65333</td>\n",
       "      <td>(46.16, 134.65333)</td>\n",
       "    </tr>\n",
       "  </tbody>\n",
       "</table>\n",
       "</div>"
      ],
      "text/plain": [
       "              name     id nametype    recclass    mass (g)  fall  \\\n",
       "29         Allende   2278    Valid         CV3   2000000.0  Fell   \n",
       "419          Jilin  12171    Valid          H5   4000000.0  Fell   \n",
       "506  Kunya-Urgench  12379    Valid          H5   1100000.0  Fell   \n",
       "707  Norton County  17922    Valid     Aubrite   1100000.0  Fell   \n",
       "920   Sikhote-Alin  23593    Valid  Iron, IIAB  23000000.0  Fell   \n",
       "\n",
       "                       year    reclat    reclong             GeoLocation  \n",
       "29   01/01/1969 12:00:00 AM  26.96667 -105.31667  (26.96667, -105.31667)  \n",
       "419  01/01/1976 12:00:00 AM  44.05000  126.16667      (44.05, 126.16667)  \n",
       "506  01/01/1998 12:00:00 AM  42.25000   59.20000           (42.25, 59.2)  \n",
       "707  01/01/1948 12:00:00 AM  39.68333  -99.86667   (39.68333, -99.86667)  \n",
       "920  01/01/1947 12:00:00 AM  46.16000  134.65333      (46.16, 134.65333)  "
      ]
     },
     "execution_count": 24,
     "metadata": {},
     "output_type": "execute_result"
    }
   ],
   "source": [
    "meteorites[(meteorites['mass (g)'] > 1e6) & (meteorites.fall == 'Fell')]"
   ]
  },
  {
   "cell_type": "markdown",
   "id": "ce56faca-d470-4a11-9b80-7b942951a9aa",
   "metadata": {},
   "source": [
    "Alternativ kann die `.query()` Methode manchmal leichter lesbar sein."
   ]
  },
  {
   "cell_type": "code",
   "execution_count": 25,
   "id": "2ef48350-5dc0-49b2-93e1-b02f715d18a3",
   "metadata": {},
   "outputs": [
    {
     "data": {
      "text/html": [
       "<div>\n",
       "<style scoped>\n",
       "    .dataframe tbody tr th:only-of-type {\n",
       "        vertical-align: middle;\n",
       "    }\n",
       "\n",
       "    .dataframe tbody tr th {\n",
       "        vertical-align: top;\n",
       "    }\n",
       "\n",
       "    .dataframe thead th {\n",
       "        text-align: right;\n",
       "    }\n",
       "</style>\n",
       "<table border=\"1\" class=\"dataframe\">\n",
       "  <thead>\n",
       "    <tr style=\"text-align: right;\">\n",
       "      <th></th>\n",
       "      <th>name</th>\n",
       "      <th>id</th>\n",
       "      <th>nametype</th>\n",
       "      <th>recclass</th>\n",
       "      <th>mass (g)</th>\n",
       "      <th>fall</th>\n",
       "      <th>year</th>\n",
       "      <th>reclat</th>\n",
       "      <th>reclong</th>\n",
       "      <th>GeoLocation</th>\n",
       "    </tr>\n",
       "  </thead>\n",
       "  <tbody>\n",
       "    <tr>\n",
       "      <th>29</th>\n",
       "      <td>Allende</td>\n",
       "      <td>2278</td>\n",
       "      <td>Valid</td>\n",
       "      <td>CV3</td>\n",
       "      <td>2000000.0</td>\n",
       "      <td>Fell</td>\n",
       "      <td>01/01/1969 12:00:00 AM</td>\n",
       "      <td>26.96667</td>\n",
       "      <td>-105.31667</td>\n",
       "      <td>(26.96667, -105.31667)</td>\n",
       "    </tr>\n",
       "    <tr>\n",
       "      <th>419</th>\n",
       "      <td>Jilin</td>\n",
       "      <td>12171</td>\n",
       "      <td>Valid</td>\n",
       "      <td>H5</td>\n",
       "      <td>4000000.0</td>\n",
       "      <td>Fell</td>\n",
       "      <td>01/01/1976 12:00:00 AM</td>\n",
       "      <td>44.05000</td>\n",
       "      <td>126.16667</td>\n",
       "      <td>(44.05, 126.16667)</td>\n",
       "    </tr>\n",
       "    <tr>\n",
       "      <th>506</th>\n",
       "      <td>Kunya-Urgench</td>\n",
       "      <td>12379</td>\n",
       "      <td>Valid</td>\n",
       "      <td>H5</td>\n",
       "      <td>1100000.0</td>\n",
       "      <td>Fell</td>\n",
       "      <td>01/01/1998 12:00:00 AM</td>\n",
       "      <td>42.25000</td>\n",
       "      <td>59.20000</td>\n",
       "      <td>(42.25, 59.2)</td>\n",
       "    </tr>\n",
       "    <tr>\n",
       "      <th>707</th>\n",
       "      <td>Norton County</td>\n",
       "      <td>17922</td>\n",
       "      <td>Valid</td>\n",
       "      <td>Aubrite</td>\n",
       "      <td>1100000.0</td>\n",
       "      <td>Fell</td>\n",
       "      <td>01/01/1948 12:00:00 AM</td>\n",
       "      <td>39.68333</td>\n",
       "      <td>-99.86667</td>\n",
       "      <td>(39.68333, -99.86667)</td>\n",
       "    </tr>\n",
       "    <tr>\n",
       "      <th>920</th>\n",
       "      <td>Sikhote-Alin</td>\n",
       "      <td>23593</td>\n",
       "      <td>Valid</td>\n",
       "      <td>Iron, IIAB</td>\n",
       "      <td>23000000.0</td>\n",
       "      <td>Fell</td>\n",
       "      <td>01/01/1947 12:00:00 AM</td>\n",
       "      <td>46.16000</td>\n",
       "      <td>134.65333</td>\n",
       "      <td>(46.16, 134.65333)</td>\n",
       "    </tr>\n",
       "  </tbody>\n",
       "</table>\n",
       "</div>"
      ],
      "text/plain": [
       "              name     id nametype    recclass    mass (g)  fall  \\\n",
       "29         Allende   2278    Valid         CV3   2000000.0  Fell   \n",
       "419          Jilin  12171    Valid          H5   4000000.0  Fell   \n",
       "506  Kunya-Urgench  12379    Valid          H5   1100000.0  Fell   \n",
       "707  Norton County  17922    Valid     Aubrite   1100000.0  Fell   \n",
       "920   Sikhote-Alin  23593    Valid  Iron, IIAB  23000000.0  Fell   \n",
       "\n",
       "                       year    reclat    reclong             GeoLocation  \n",
       "29   01/01/1969 12:00:00 AM  26.96667 -105.31667  (26.96667, -105.31667)  \n",
       "419  01/01/1976 12:00:00 AM  44.05000  126.16667      (44.05, 126.16667)  \n",
       "506  01/01/1998 12:00:00 AM  42.25000   59.20000           (42.25, 59.2)  \n",
       "707  01/01/1948 12:00:00 AM  39.68333  -99.86667   (39.68333, -99.86667)  \n",
       "920  01/01/1947 12:00:00 AM  46.16000  134.65333      (46.16, 134.65333)  "
      ]
     },
     "execution_count": 25,
     "metadata": {},
     "output_type": "execute_result"
    }
   ],
   "source": [
    "meteorites.query(\"`mass (g)` > 1e6 and fall == 'Fell'\")"
   ]
  },
  {
   "cell_type": "markdown",
   "id": "96a7b264-7cfc-403f-8c69-380e20ae163f",
   "metadata": {},
   "source": [
    "## Grundlegende Statistiken\n"
   ]
  },
  {
   "cell_type": "markdown",
   "id": "1bb77a5b-a57f-41f4-8131-4704f47a3b42",
   "metadata": {},
   "source": [
    "#### Wie viele Meteoriten wurden beobachtet und wie viele aufgefunden?"
   ]
  },
  {
   "cell_type": "code",
   "execution_count": 26,
   "id": "78de2225-84df-4df2-8388-30a6b2e22877",
   "metadata": {},
   "outputs": [
    {
     "data": {
      "text/plain": [
       "fall\n",
       "Found    44609\n",
       "Fell      1107\n",
       "Name: count, dtype: int64"
      ]
     },
     "execution_count": 26,
     "metadata": {},
     "output_type": "execute_result"
    }
   ],
   "source": [
    "meteorites.fall.value_counts()"
   ]
  },
  {
   "cell_type": "code",
   "execution_count": 27,
   "id": "5a4d63d6",
   "metadata": {},
   "outputs": [
    {
     "data": {
      "text/plain": [
       "fall\n",
       "Found    0.975785\n",
       "Fell     0.024215\n",
       "Name: proportion, dtype: float64"
      ]
     },
     "execution_count": 27,
     "metadata": {},
     "output_type": "execute_result"
    }
   ],
   "source": [
    "meteorites.fall.value_counts(normalize=True)"
   ]
  },
  {
   "cell_type": "markdown",
   "id": "0fdb3a88-1c1f-4a37-84ed-d521be8fd8b0",
   "metadata": {},
   "source": [
    "#### Was war die durchschnittliche Masse?"
   ]
  },
  {
   "cell_type": "code",
   "execution_count": 28,
   "id": "1770a856-cb3d-42a4-abef-656198b9cdab",
   "metadata": {},
   "outputs": [
    {
     "data": {
      "text/plain": [
       "13278.078548601512"
      ]
     },
     "execution_count": 28,
     "metadata": {},
     "output_type": "execute_result"
    }
   ],
   "source": [
    "meteorites['mass (g)'].mean()"
   ]
  },
  {
   "cell_type": "markdown",
   "id": "91b223c6-e174-4b8c-89ec-dc4538f36873",
   "metadata": {},
   "source": [
    "Um zu prüfen ob der Mittelwert ein guter Messwert ist, überprüfen wir die Verteilung anhand einiger Quantile."
   ]
  },
  {
   "cell_type": "code",
   "execution_count": 29,
   "id": "0821d8e4-6096-4506-8d84-2f0f0ed09bd7",
   "metadata": {},
   "outputs": [
    {
     "data": {
      "text/plain": [
       "0.01        0.44\n",
       "0.05        1.10\n",
       "0.50       32.60\n",
       "0.95     4000.00\n",
       "0.99    50600.00\n",
       "Name: mass (g), dtype: float64"
      ]
     },
     "execution_count": 29,
     "metadata": {},
     "output_type": "execute_result"
    }
   ],
   "source": [
    "meteorites['mass (g)'].quantile([0.01, 0.05, 0.5, 0.95, 0.99])"
   ]
  },
  {
   "cell_type": "markdown",
   "id": "9ba56ba7-cb62-46a1-81b6-5117a2210460",
   "metadata": {},
   "source": [
    "Bei einer schiefen Verteilung wie dieser ist der Median aussagekräftiger."
   ]
  },
  {
   "cell_type": "code",
   "execution_count": 30,
   "id": "4aca7862-5a00-4f9e-88d8-004c6d680e0d",
   "metadata": {},
   "outputs": [
    {
     "data": {
      "text/plain": [
       "32.6"
      ]
     },
     "execution_count": 30,
     "metadata": {},
     "output_type": "execute_result"
    }
   ],
   "source": [
    "meteorites['mass (g)'].median()"
   ]
  },
  {
   "cell_type": "markdown",
   "id": "377ade97-183d-428b-9b56-2cc1a1d3915f",
   "metadata": {},
   "source": [
    "#### Wie schwer war der schwerste Meteorit?"
   ]
  },
  {
   "cell_type": "code",
   "execution_count": 31,
   "id": "35cd0108-7ef5-4911-bc6d-56249dff6b42",
   "metadata": {},
   "outputs": [
    {
     "data": {
      "text/plain": [
       "'60.0 Tonnen'"
      ]
     },
     "execution_count": 31,
     "metadata": {},
     "output_type": "execute_result"
    }
   ],
   "source": [
    "f\"{meteorites['mass (g)'].max() / 1000000} Tonnen\""
   ]
  },
  {
   "cell_type": "markdown",
   "id": "6efc5b1b-413b-4378-9656-7c4d6001dc27",
   "metadata": {},
   "source": [
    "Daten für diesen Meteoriten:"
   ]
  },
  {
   "cell_type": "code",
   "execution_count": 32,
   "id": "edf8ab72-ba40-4eb9-9015-37c0d60ef86d",
   "metadata": {},
   "outputs": [
    {
     "data": {
      "text/plain": [
       "name                             Hoba\n",
       "id                              11890\n",
       "nametype                        Valid\n",
       "recclass                    Iron, IVB\n",
       "mass (g)                   60000000.0\n",
       "fall                            Found\n",
       "year           01/01/1920 12:00:00 AM\n",
       "reclat                      -19.58333\n",
       "reclong                      17.91667\n",
       "GeoLocation     (-19.58333, 17.91667)\n",
       "Name: 16392, dtype: object"
      ]
     },
     "execution_count": 32,
     "metadata": {},
     "output_type": "execute_result"
    }
   ],
   "source": [
    "meteorites.loc[meteorites['mass (g)'].idxmax()]"
   ]
  },
  {
   "cell_type": "markdown",
   "id": "65367403-e010-4dc7-8cef-d280a8c94fd3",
   "metadata": {},
   "source": [
    "*Fun fact: Dieser Meteorit ist in Namibia eine Touristenattraktion.*\n",
    "\n",
    "<div  style=\"text-align: center;\">\n",
    "    <img width=\"50%\" style=\"margin-top: -5px; margin-bottom: -5px; min-width: 200px\" src=\"https://upload.wikimedia.org/wikipedia/commons/thumb/a/a7/Hoba_meteorite_%2815682150765%29.jpg/1280px-Hoba_meteorite_%2815682150765%29.jpg\" alt=\"Hoba meteorite (source: Wikipedia)\"/>\n",
    "    <div><small><em>Source: Wikipedia</em></small></div>\n",
    "</div>"
   ]
  },
  {
   "cell_type": "markdown",
   "id": "38d14207-0f94-4204-927e-444535c7dd2d",
   "metadata": {},
   "source": [
    "#### Wie viele Klassen von Meteoriten sind im Datenset?"
   ]
  },
  {
   "cell_type": "code",
   "execution_count": 33,
   "id": "0301e74e-bdfd-4b9f-bf26-edd0c3ad5f39",
   "metadata": {},
   "outputs": [
    {
     "data": {
      "text/plain": [
       "466"
      ]
     },
     "execution_count": 33,
     "metadata": {},
     "output_type": "execute_result"
    }
   ],
   "source": [
    "meteorites.recclass.nunique()"
   ]
  },
  {
   "cell_type": "markdown",
   "id": "e55fe68e-5bf4-4b5e-b2c7-6a896743a5f6",
   "metadata": {},
   "source": [
    "Zum Beispiel:"
   ]
  },
  {
   "cell_type": "code",
   "execution_count": 34,
   "id": "5ad8d82a-aeaf-4d8b-bf5f-22b2ba06fad3",
   "metadata": {},
   "outputs": [
    {
     "data": {
      "text/plain": [
       "array(['L5', 'H6', 'EH4', 'Acapulcoite', 'L6', 'LL3-6', 'H5', 'L',\n",
       "       'Diogenite-pm', 'Unknown', 'H4', 'H', 'Iron, IVA', 'CR2-an'],\n",
       "      dtype=object)"
      ]
     },
     "execution_count": 34,
     "metadata": {},
     "output_type": "execute_result"
    }
   ],
   "source": [
    "meteorites.recclass.unique()[:14]"
   ]
  },
  {
   "cell_type": "markdown",
   "id": "1dc4f077-48b2-49ca-a902-faac7066f479",
   "metadata": {},
   "source": [
    "(Mehr Info über Meteoritenklassifikation [hier](https://en.wikipedia.org/wiki/Meteorite_classification).)"
   ]
  },
  {
   "cell_type": "markdown",
   "id": "5b506e37-2929-42be-a82d-eb31491bf352",
   "metadata": {},
   "source": [
    "#### Statistische Parameter über alle Spalten"
   ]
  },
  {
   "cell_type": "code",
   "execution_count": 35,
   "id": "7bbf2092-31bd-4473-a98c-cfe243f9e7b1",
   "metadata": {},
   "outputs": [
    {
     "data": {
      "text/html": [
       "<div>\n",
       "<style scoped>\n",
       "    .dataframe tbody tr th:only-of-type {\n",
       "        vertical-align: middle;\n",
       "    }\n",
       "\n",
       "    .dataframe tbody tr th {\n",
       "        vertical-align: top;\n",
       "    }\n",
       "\n",
       "    .dataframe thead th {\n",
       "        text-align: right;\n",
       "    }\n",
       "</style>\n",
       "<table border=\"1\" class=\"dataframe\">\n",
       "  <thead>\n",
       "    <tr style=\"text-align: right;\">\n",
       "      <th></th>\n",
       "      <th>name</th>\n",
       "      <th>id</th>\n",
       "      <th>nametype</th>\n",
       "      <th>recclass</th>\n",
       "      <th>mass (g)</th>\n",
       "      <th>fall</th>\n",
       "      <th>year</th>\n",
       "      <th>reclat</th>\n",
       "      <th>reclong</th>\n",
       "      <th>GeoLocation</th>\n",
       "    </tr>\n",
       "  </thead>\n",
       "  <tbody>\n",
       "    <tr>\n",
       "      <th>count</th>\n",
       "      <td>45716</td>\n",
       "      <td>45716.000000</td>\n",
       "      <td>45716</td>\n",
       "      <td>45716</td>\n",
       "      <td>4.558500e+04</td>\n",
       "      <td>45716</td>\n",
       "      <td>45425</td>\n",
       "      <td>38401.000000</td>\n",
       "      <td>38401.000000</td>\n",
       "      <td>38401</td>\n",
       "    </tr>\n",
       "    <tr>\n",
       "      <th>unique</th>\n",
       "      <td>45716</td>\n",
       "      <td>NaN</td>\n",
       "      <td>2</td>\n",
       "      <td>466</td>\n",
       "      <td>NaN</td>\n",
       "      <td>2</td>\n",
       "      <td>266</td>\n",
       "      <td>NaN</td>\n",
       "      <td>NaN</td>\n",
       "      <td>17100</td>\n",
       "    </tr>\n",
       "    <tr>\n",
       "      <th>top</th>\n",
       "      <td>Aachen</td>\n",
       "      <td>NaN</td>\n",
       "      <td>Valid</td>\n",
       "      <td>L6</td>\n",
       "      <td>NaN</td>\n",
       "      <td>Found</td>\n",
       "      <td>01/01/2003 12:00:00 AM</td>\n",
       "      <td>NaN</td>\n",
       "      <td>NaN</td>\n",
       "      <td>(0.0, 0.0)</td>\n",
       "    </tr>\n",
       "    <tr>\n",
       "      <th>freq</th>\n",
       "      <td>1</td>\n",
       "      <td>NaN</td>\n",
       "      <td>45641</td>\n",
       "      <td>8285</td>\n",
       "      <td>NaN</td>\n",
       "      <td>44609</td>\n",
       "      <td>3323</td>\n",
       "      <td>NaN</td>\n",
       "      <td>NaN</td>\n",
       "      <td>6214</td>\n",
       "    </tr>\n",
       "    <tr>\n",
       "      <th>mean</th>\n",
       "      <td>NaN</td>\n",
       "      <td>26889.735104</td>\n",
       "      <td>NaN</td>\n",
       "      <td>NaN</td>\n",
       "      <td>1.327808e+04</td>\n",
       "      <td>NaN</td>\n",
       "      <td>NaN</td>\n",
       "      <td>-39.122580</td>\n",
       "      <td>61.074319</td>\n",
       "      <td>NaN</td>\n",
       "    </tr>\n",
       "    <tr>\n",
       "      <th>std</th>\n",
       "      <td>NaN</td>\n",
       "      <td>16860.683030</td>\n",
       "      <td>NaN</td>\n",
       "      <td>NaN</td>\n",
       "      <td>5.749889e+05</td>\n",
       "      <td>NaN</td>\n",
       "      <td>NaN</td>\n",
       "      <td>46.378511</td>\n",
       "      <td>80.647298</td>\n",
       "      <td>NaN</td>\n",
       "    </tr>\n",
       "    <tr>\n",
       "      <th>min</th>\n",
       "      <td>NaN</td>\n",
       "      <td>1.000000</td>\n",
       "      <td>NaN</td>\n",
       "      <td>NaN</td>\n",
       "      <td>0.000000e+00</td>\n",
       "      <td>NaN</td>\n",
       "      <td>NaN</td>\n",
       "      <td>-87.366670</td>\n",
       "      <td>-165.433330</td>\n",
       "      <td>NaN</td>\n",
       "    </tr>\n",
       "    <tr>\n",
       "      <th>25%</th>\n",
       "      <td>NaN</td>\n",
       "      <td>12688.750000</td>\n",
       "      <td>NaN</td>\n",
       "      <td>NaN</td>\n",
       "      <td>7.200000e+00</td>\n",
       "      <td>NaN</td>\n",
       "      <td>NaN</td>\n",
       "      <td>-76.714240</td>\n",
       "      <td>0.000000</td>\n",
       "      <td>NaN</td>\n",
       "    </tr>\n",
       "    <tr>\n",
       "      <th>50%</th>\n",
       "      <td>NaN</td>\n",
       "      <td>24261.500000</td>\n",
       "      <td>NaN</td>\n",
       "      <td>NaN</td>\n",
       "      <td>3.260000e+01</td>\n",
       "      <td>NaN</td>\n",
       "      <td>NaN</td>\n",
       "      <td>-71.500000</td>\n",
       "      <td>35.666670</td>\n",
       "      <td>NaN</td>\n",
       "    </tr>\n",
       "    <tr>\n",
       "      <th>75%</th>\n",
       "      <td>NaN</td>\n",
       "      <td>40656.750000</td>\n",
       "      <td>NaN</td>\n",
       "      <td>NaN</td>\n",
       "      <td>2.026000e+02</td>\n",
       "      <td>NaN</td>\n",
       "      <td>NaN</td>\n",
       "      <td>0.000000</td>\n",
       "      <td>157.166670</td>\n",
       "      <td>NaN</td>\n",
       "    </tr>\n",
       "    <tr>\n",
       "      <th>max</th>\n",
       "      <td>NaN</td>\n",
       "      <td>57458.000000</td>\n",
       "      <td>NaN</td>\n",
       "      <td>NaN</td>\n",
       "      <td>6.000000e+07</td>\n",
       "      <td>NaN</td>\n",
       "      <td>NaN</td>\n",
       "      <td>81.166670</td>\n",
       "      <td>354.473330</td>\n",
       "      <td>NaN</td>\n",
       "    </tr>\n",
       "  </tbody>\n",
       "</table>\n",
       "</div>"
      ],
      "text/plain": [
       "          name            id nametype recclass      mass (g)   fall  \\\n",
       "count    45716  45716.000000    45716    45716  4.558500e+04  45716   \n",
       "unique   45716           NaN        2      466           NaN      2   \n",
       "top     Aachen           NaN    Valid       L6           NaN  Found   \n",
       "freq         1           NaN    45641     8285           NaN  44609   \n",
       "mean       NaN  26889.735104      NaN      NaN  1.327808e+04    NaN   \n",
       "std        NaN  16860.683030      NaN      NaN  5.749889e+05    NaN   \n",
       "min        NaN      1.000000      NaN      NaN  0.000000e+00    NaN   \n",
       "25%        NaN  12688.750000      NaN      NaN  7.200000e+00    NaN   \n",
       "50%        NaN  24261.500000      NaN      NaN  3.260000e+01    NaN   \n",
       "75%        NaN  40656.750000      NaN      NaN  2.026000e+02    NaN   \n",
       "max        NaN  57458.000000      NaN      NaN  6.000000e+07    NaN   \n",
       "\n",
       "                          year        reclat       reclong GeoLocation  \n",
       "count                    45425  38401.000000  38401.000000       38401  \n",
       "unique                     266           NaN           NaN       17100  \n",
       "top     01/01/2003 12:00:00 AM           NaN           NaN  (0.0, 0.0)  \n",
       "freq                      3323           NaN           NaN        6214  \n",
       "mean                       NaN    -39.122580     61.074319         NaN  \n",
       "std                        NaN     46.378511     80.647298         NaN  \n",
       "min                        NaN    -87.366670   -165.433330         NaN  \n",
       "25%                        NaN    -76.714240      0.000000         NaN  \n",
       "50%                        NaN    -71.500000     35.666670         NaN  \n",
       "75%                        NaN      0.000000    157.166670         NaN  \n",
       "max                        NaN     81.166670    354.473330         NaN  "
      ]
     },
     "execution_count": 35,
     "metadata": {},
     "output_type": "execute_result"
    }
   ],
   "source": [
    "meteorites.describe(include='all')"
   ]
  },
  {
   "cell_type": "markdown",
   "id": "23eb0e09-a60c-4228-a85f-cfbd7c414666",
   "metadata": {},
   "source": [
    "#### Mehr Möglichkeiten für Statistiken:\n",
    "\n",
    "- [Series](https://pandas.pydata.org/docs/reference/series.html#computations-descriptive-stats)\n",
    "- [DataFrame](https://pandas.pydata.org/docs/reference/frame.html#computations-descriptive-stats)"
   ]
  },
  {
   "cell_type": "markdown",
   "id": "d494f19a-35d2-45ce-8042-f411d61d616d",
   "metadata": {},
   "source": [
    "### Übung 1.3\n",
    "\n",
    "##### Mit den Daten aus `2019_Yellow_Taxi_Trip_Data.csv`, berechne statistische Parameter. Betrachte dabei nur die Spalten `fare_amount`, `tip_amount`, `tolls_amount`, und `total_amount`.\n",
    "\n",
    "### Übung 1.4\n",
    "\n",
    "##### Finde `fare_amount`, `tip_amount`, `tolls_amount`, und `total_amount` für den längsten Trip (nach `trip_distance`)."
   ]
  },
  {
   "cell_type": "code",
   "execution_count": null,
   "id": "8e208513",
   "metadata": {},
   "outputs": [],
   "source": []
  },
  {
   "cell_type": "markdown",
   "id": "1f576b2d",
   "metadata": {},
   "source": [
    ".\n",
    "\n",
    ".\n",
    "\n",
    ".\n",
    "\n",
    ".\n",
    "\n",
    ".\n",
    "\n",
    ".\n",
    "\n",
    ".\n",
    "\n",
    ".\n",
    "\n",
    ".\n",
    "\n",
    ".\n",
    "\n",
    ".\n",
    "\n",
    ".\n",
    "\n",
    ".\n",
    "\n",
    ".\n",
    "\n",
    "."
   ]
  },
  {
   "cell_type": "markdown",
   "id": "bfc7ca90-3bb4-4dd6-97fd-8afe50b5dfd3",
   "metadata": {},
   "source": [
    "### Lösungen"
   ]
  },
  {
   "cell_type": "code",
   "execution_count": 36,
   "id": "0f348a93-32c6-474c-acf9-c4fd1a80aa26",
   "metadata": {},
   "outputs": [
    {
     "data": {
      "text/html": [
       "<div>\n",
       "<style scoped>\n",
       "    .dataframe tbody tr th:only-of-type {\n",
       "        vertical-align: middle;\n",
       "    }\n",
       "\n",
       "    .dataframe tbody tr th {\n",
       "        vertical-align: top;\n",
       "    }\n",
       "\n",
       "    .dataframe thead th {\n",
       "        text-align: right;\n",
       "    }\n",
       "</style>\n",
       "<table border=\"1\" class=\"dataframe\">\n",
       "  <thead>\n",
       "    <tr style=\"text-align: right;\">\n",
       "      <th></th>\n",
       "      <th>fare_amount</th>\n",
       "      <th>tip_amount</th>\n",
       "      <th>tolls_amount</th>\n",
       "      <th>total_amount</th>\n",
       "    </tr>\n",
       "  </thead>\n",
       "  <tbody>\n",
       "    <tr>\n",
       "      <th>count</th>\n",
       "      <td>10000.000000</td>\n",
       "      <td>10000.000000</td>\n",
       "      <td>10000.000000</td>\n",
       "      <td>10000.000000</td>\n",
       "    </tr>\n",
       "    <tr>\n",
       "      <th>mean</th>\n",
       "      <td>15.106313</td>\n",
       "      <td>2.634494</td>\n",
       "      <td>0.623447</td>\n",
       "      <td>22.564659</td>\n",
       "    </tr>\n",
       "    <tr>\n",
       "      <th>std</th>\n",
       "      <td>13.954762</td>\n",
       "      <td>3.409800</td>\n",
       "      <td>6.437507</td>\n",
       "      <td>19.209255</td>\n",
       "    </tr>\n",
       "    <tr>\n",
       "      <th>min</th>\n",
       "      <td>-52.000000</td>\n",
       "      <td>0.000000</td>\n",
       "      <td>-6.120000</td>\n",
       "      <td>-65.920000</td>\n",
       "    </tr>\n",
       "    <tr>\n",
       "      <th>25%</th>\n",
       "      <td>7.000000</td>\n",
       "      <td>0.000000</td>\n",
       "      <td>0.000000</td>\n",
       "      <td>12.375000</td>\n",
       "    </tr>\n",
       "    <tr>\n",
       "      <th>50%</th>\n",
       "      <td>10.000000</td>\n",
       "      <td>2.000000</td>\n",
       "      <td>0.000000</td>\n",
       "      <td>16.300000</td>\n",
       "    </tr>\n",
       "    <tr>\n",
       "      <th>75%</th>\n",
       "      <td>16.000000</td>\n",
       "      <td>3.250000</td>\n",
       "      <td>0.000000</td>\n",
       "      <td>22.880000</td>\n",
       "    </tr>\n",
       "    <tr>\n",
       "      <th>max</th>\n",
       "      <td>176.000000</td>\n",
       "      <td>43.000000</td>\n",
       "      <td>612.000000</td>\n",
       "      <td>671.800000</td>\n",
       "    </tr>\n",
       "  </tbody>\n",
       "</table>\n",
       "</div>"
      ],
      "text/plain": [
       "        fare_amount    tip_amount  tolls_amount  total_amount\n",
       "count  10000.000000  10000.000000  10000.000000  10000.000000\n",
       "mean      15.106313      2.634494      0.623447     22.564659\n",
       "std       13.954762      3.409800      6.437507     19.209255\n",
       "min      -52.000000      0.000000     -6.120000    -65.920000\n",
       "25%        7.000000      0.000000      0.000000     12.375000\n",
       "50%       10.000000      2.000000      0.000000     16.300000\n",
       "75%       16.000000      3.250000      0.000000     22.880000\n",
       "max      176.000000     43.000000    612.000000    671.800000"
      ]
     },
     "execution_count": 36,
     "metadata": {},
     "output_type": "execute_result"
    }
   ],
   "source": [
    "import pandas as pd\n",
    "\n",
    "taxis = pd.read_csv('../data/2019_Yellow_Taxi_Trip_Data.csv')\n",
    "taxis[['fare_amount', 'tip_amount', 'tolls_amount', 'total_amount']].describe()"
   ]
  },
  {
   "cell_type": "code",
   "execution_count": 39,
   "id": "14059a98-6ddf-417d-98fa-cd5f36130e03",
   "metadata": {},
   "outputs": [
    {
     "ename": "TypeError",
     "evalue": "Series.pop() missing 1 required positional argument: 'item'",
     "output_type": "error",
     "traceback": [
      "\u001b[0;31m---------------------------------------------------------------------------\u001b[0m",
      "\u001b[0;31mTypeError\u001b[0m                                 Traceback (most recent call last)",
      "Cell \u001b[0;32mIn[39], line 6\u001b[0m\n\u001b[1;32m      1\u001b[0m a \u001b[38;5;241m=\u001b[39m taxis\u001b[38;5;241m.\u001b[39mloc[\n\u001b[1;32m      2\u001b[0m     taxis\u001b[38;5;241m.\u001b[39mtrip_distance\u001b[38;5;241m.\u001b[39midxmax(), \n\u001b[1;32m      3\u001b[0m     [\u001b[38;5;124m'\u001b[39m\u001b[38;5;124mfare_amount\u001b[39m\u001b[38;5;124m'\u001b[39m, \u001b[38;5;124m'\u001b[39m\u001b[38;5;124mtip_amount\u001b[39m\u001b[38;5;124m'\u001b[39m, \u001b[38;5;124m'\u001b[39m\u001b[38;5;124mtolls_amount\u001b[39m\u001b[38;5;124m'\u001b[39m, \u001b[38;5;124m'\u001b[39m\u001b[38;5;124mtotal_amount\u001b[39m\u001b[38;5;124m'\u001b[39m]\n\u001b[1;32m      4\u001b[0m ]\n\u001b[0;32m----> 6\u001b[0m \u001b[43ma\u001b[49m\u001b[38;5;241;43m.\u001b[39;49m\u001b[43mpop\u001b[49m\u001b[43m(\u001b[49m\u001b[43m)\u001b[49m\n",
      "\u001b[0;31mTypeError\u001b[0m: Series.pop() missing 1 required positional argument: 'item'"
     ]
    }
   ],
   "source": [
    "a = taxis.loc[\n",
    "    taxis.trip_distance.idxmax(), \n",
    "    ['fare_amount', 'tip_amount', 'tolls_amount', 'total_amount']\n",
    "]\n",
    "\n",
    "a.pop()\n",
    "\n"
   ]
  }
 ],
 "metadata": {
  "kernelspec": {
   "display_name": "Python 3 (ipykernel)",
   "language": "python",
   "name": "python3"
  },
  "language_info": {
   "codemirror_mode": {
    "name": "ipython",
    "version": 3
   },
   "file_extension": ".py",
   "mimetype": "text/x-python",
   "name": "python",
   "nbconvert_exporter": "python",
   "pygments_lexer": "ipython3",
   "version": "3.10.13"
  }
 },
 "nbformat": 4,
 "nbformat_minor": 5
}
